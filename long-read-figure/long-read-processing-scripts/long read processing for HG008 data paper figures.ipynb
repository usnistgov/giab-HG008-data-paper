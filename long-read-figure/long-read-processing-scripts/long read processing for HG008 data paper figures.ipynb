{
 "cells": [
  {
   "cell_type": "markdown",
   "id": "98f21cea",
   "metadata": {},
   "source": [
    "# Long read processing for HG008 scientific data paper figures\n",
    "J.McDaniel started 2024-07-12"
   ]
  },
  {
   "cell_type": "markdown",
   "id": "d9d82907",
   "metadata": {},
   "source": [
    "This notebook is to capture the processing of the HG008 long read data to generate figures for the scientific data paper. Outputs of `get_bam_stats.py` and `extract_samtools_stats.sh` will be used as inputs into `hg008-long-read-plots.Rmd` to generate long-read plots for the HG008 data manuscript."
   ]
  },
  {
   "cell_type": "code",
   "execution_count": 1,
   "id": "36be4505",
   "metadata": {},
   "outputs": [
    {
     "name": "stdout",
     "output_type": "stream",
     "text": [
      "/Users/jmcdani/Documents/HG008-data-science-paper/hg008-scientific-data-paper-figs\n"
     ]
    }
   ],
   "source": [
    "#JMcDaniel laptop local working directory\n",
    "pwd"
   ]
  },
  {
   "cell_type": "markdown",
   "id": "2d0035a4",
   "metadata": {},
   "source": [
    "# Get long read data"
   ]
  },
  {
   "cell_type": "markdown",
   "id": "507c234f",
   "metadata": {},
   "source": [
    "Files used for figures were download using links in `HG008-long-read-bam-links.sh`. md5 checksums confirmed upon download.\n",
    "\n",
    "```\n",
    "#PacBio Revio - N-P 35x, T 116x (datset id = PB-Hifi-1)\n",
    "wget https://ftp-trace.ncbi.nlm.nih.gov/ReferenceSamples/giab/data_somatic/HG008/Liss_lab/PacBio_Revio_20240125/HG008-T_PacBio-HiFi-Revio_20240125_116x_GRCh38-GIABv3.bam .\n",
    "wget https://ftp-trace.ncbi.nlm.nih.gov/ReferenceSamples/giab/data_somatic/HG008/Liss_lab/PacBio_Revio_20240125/HG008-T_PacBio-HiFi-Revio_20240125_116x_GRCh38-GIABv3.bam.bai .\n",
    "wget https://ftp-trace.ncbi.nlm.nih.gov/ReferenceSamples/giab/data_somatic/HG008/Liss_lab/PacBio_Revio_20240125/HG008-N-P_PacBio-HiFi-Revio_20240125_35x_GRCh38-GIABv3.bam .\n",
    "wget https://ftp-trace.ncbi.nlm.nih.gov/ReferenceSamples/giab/data_somatic/HG008/Liss_lab/PacBio_Revio_20240125/HG008-N-P_PacBio-HiFi-Revio_20240125_35x_GRCh38-GIABv3.bam.bai .\n",
    "\n",
    "#BCM Revio N-D 68x, T 106x (datset id = PB-Hifi-2)\n",
    "wget https://ftp-trace.ncbi.nlm.nih.gov/ReferenceSamples/giab/data_somatic/HG008/Liss_lab/BCM_Revio_20240313/HG008-N-D_PacBio-HiFi-Revio_20240313_68x_GRCh38-GIABv3.bam .\n",
    "wget https://ftp-trace.ncbi.nlm.nih.gov/ReferenceSamples/giab/data_somatic/HG008/Liss_lab/BCM_Revio_20240313/HG008-N-D_PacBio-HiFi-Revio_20240313_68x_GRCh38-GIABv3.bam.bai .\n",
    "wget https://ftp-trace.ncbi.nlm.nih.gov/ReferenceSamples/giab/data_somatic/HG008/Liss_lab/BCM_Revio_20240313/HG008-\n",
    "T_PacBio-HiFi-Revio_20240313_106x_GRCh38-GIABv3.bam .\n",
    "wget https://ftp-trace.ncbi.nlm.nih.gov/ReferenceSamples/giab/data_somatic/HG008/Liss_lab/BCM_Revio_20240313/HG008-T_PacBio-HiFi-Revio_20240313_106x_GRCh38-GIABv3.bam.bai .\n",
    "\n",
    "#UCSC ONT UL - T 54x (datset id = ONT-uL-1)\n",
    "wget https://ftp-trace.ncbi.nlm.nih.gov/ReferenceSamples/giab/data_somatic/HG008/Liss_lab/UCSC_ONT-UL_20231207/HG008-T_GRCh38_GIABv3_ONT-UL-R10.4.1-dorado0.4.3_sup4.2.0_5mCG_5hmCG_54x_UCSC_20231031.bam .\n",
    "wget https://ftp-trace.ncbi.nlm.nih.gov/ReferenceSamples/giab/data_somatic/HG008/Liss_lab/UCSC_ONT-UL_20231207/HG008-T_GRCh38_GIABv3_ONT-UL-R10.4.1-dorado0.4.3_sup4.2.0_5mCG_5hmCG_54x_UCSC_20231031.bam.bai .\n",
    "\n",
    "#UCSC ONT std - T 63x (datset id = ONT-std-2)\n",
    "wget https://ftp-trace.ncbi.nlm.nih.gov/ReferenceSamples/giab/data_somatic/HG008/Liss_lab/UCSC_ONT_20231003/HG008-T_GRCh38_GIABv3_ONT-R10.4.1-doradov0.3.4-5mCG-5hmC-63x_UCSC_20230905.bam .\n",
    "wget https://ftp-trace.ncbi.nlm.nih.gov/ReferenceSamples/giab/data_somatic/HG008/Liss_lab/UCSC_ONT_20231003/HG008-T_GRCh38_GIABv3_ONT-R10.4.1-doradov0.3.4-5mCG-5hmC-63x_UCSC_20230905.bam.bai .\n",
    "\n",
    "#NE ONT std - N-D 94x, N-P 41x (datset id = ONT-std-1)\n",
    "wget https://ftp-trace.ncbi.nlm.nih.gov/ReferenceSamples/giab/data_somatic/HG008/Liss_lab/Northeastern_ONT-std_20240422/HG008-N-P_GRCh38-GIABv3_ONT-R1041-dorado_0.5.3_5mC_5hmC_41x.bam .\n",
    "wget https://ftp-trace.ncbi.nlm.nih.gov/ReferenceSamples/giab/data_somatic/HG008/Liss_lab/Northeastern_ONT-std_20240422/HG008-N-P_GRCh38-GIABv3_ONT-R1041-dorado_0.5.3_5mC_5hmC_41x.bam.bai .\n",
    "wget https://ftp-trace.ncbi.nlm.nih.gov/ReferenceSamples/giab/data_somatic/HG008/Liss_lab/Northeastern_ONT-std_20240422/HG008-N-D_GRCh38-GIABv3_ONT-R1041-dorado_0.5.3_5mC_5hmC_94x.bam .\n",
    "wget https://ftp-trace.ncbi.nlm.nih.gov/ReferenceSamples/giab/data_somatic/HG008/Liss_lab/Northeastern_ONT-std_20240422/HG008-N-D_GRCh38-GIABv3_ONT-R1041-dorado_0.5.3_5mC_5hmC_94x.bam.bai .\n",
    "```\n",
    "\n",
    ".bam md5 checksums\n",
    "\n",
    "3fc6d08fbda62f9f707e9e1f99e25292  HG008-N-D_GRCh38-GIABv3_ONT-R1041-dorado_0.5.3_5mC_5hmC_94x.bam  \n",
    "75a3eaef2c5dd9f40aa8bb3c4bfa845d  HG008-N-D_PacBio-HiFi-Revio_20240313_68x_GRCh38-GIABv3.bam  \n",
    "426aee07a68343c0d793db8766b34098  HG008-N-P_GRCh38-GIABv3_ONT-R1041-dorado_0.5.3_5mC_5hmC_41x.bam  \n",
    "83b03d37f23db9405246aedfedc1c0da  HG008-N-P_PacBio-HiFi-Revio_20240125_35x_GRCh38-GIABv3.bam  \n",
    "26caf9c72c2878019584846cf8f1bd72  HG008-T_GRCh38_GIABv3_ONT-R10.4.1-doradov0.3.4-5mCG-5hmC-63x_UCSC_20230905.bam  \n",
    "0ca65a78c3df5908a77d333971816851  HG008-T_GRCh38_GIABv3_ONT-UL-R10.4.1-dorado0.4.3_sup4.2.0_5mCG_5hmCG_54x_UCSC_20231031.bam  \n",
    "60fe2f126ecfc1e1085343d744e57ad0  HG008-T_PacBio-HiFi-Revio_20240125_116x_GRCh38-GIABv3.bam  \n",
    "6d6e594b2185548eccafa3f7e6dd66e9  HG008-T_PacBio-HiFi-Revio_20240313_106x_GRCh38-GIABv3.bam  "
   ]
  },
  {
   "cell_type": "markdown",
   "id": "32ad9cad",
   "metadata": {},
   "source": [
    "# Get bam stats `get_bam_stat.py` "
   ]
  },
  {
   "cell_type": "markdown",
   "id": "7c16be3c",
   "metadata": {},
   "source": [
    "Using long read bams, extract bam stats using Noah Spies script [get_bam_stat.py](https://github.com/nate-d-olson/giab-ont-ul-pipeline/blob/master/scripts/get_bam_stat.py). Output is `bam.stats.tsv.gz` with the following fields:\n",
    "- read_id\t\n",
    "- aln_lengthsum\t\n",
    "- aln_lengthmax\t\n",
    "- aln_count\t\n",
    "- ref_lengthsum\t\n",
    "- ref_lengthmax\t\n",
    "- ref_lengthcount\t\n",
    "- bases\n",
    "\n",
    "`get_bam_stat.py` --> INPUT: `*.bam`, OUTPUT: `*.bam.stats.tsv.gz`"
   ]
  },
  {
   "cell_type": "markdown",
   "id": "4ad8f9be",
   "metadata": {},
   "source": [
    "```\n",
    "# PacBio Revio\n",
    "python scripts/get_bam_stat.py data/HG008-N-P_PacBio-HiFi-Revio_20240125_35x_GRCh38-GIABv3.bam get_bam_stat_output/HG008-N-P_PacBio-HiFi-Revio_20240125_35x_GRCh38-GIABv3.bam.stats.tsv.gz\n",
    "\n",
    "python scripts/get_bam_stat.py data/HG008-T_PacBio-HiFi-Revio_20240125_116x_GRCh38-GIABv3.bam get_bam_stat_output/HG008-T_PacBio-HiFi-Revio_20240125_116x_GRCh38-GIABv3.bam.stats.tsv.gz\n",
    "\n",
    "# BCM Revio\n",
    "python scripts/get_bam_stat.py data/HG008-N-D_PacBio-HiFi-Revio_20240313_68x_GRCh38-GIABv3.bam get_bam_stat_output/HG008-N-D_PacBio-HiFi-Revio_20240313_68x_GRCh38-GIABv3.bam.stats.tsv.gz\n",
    "\n",
    "python scripts/get_bam_stat.py data/HG008-T_PacBio-HiFi-Revio_20240313_106x_GRCh38-GIABv3.bam get_bam_stat_output/HG008-T_PacBio-HiFi-Revio_20240313_106x_GRCh38-GIABv3.bam.stats.tsv.gz\n",
    "\n",
    "# UCSC ONT UL\n",
    "python scripts/get_bam_stat.py data/HG008-T_GRCh38_GIABv3_ONT-UL-R10.4.1-dorado0.4.3_sup4.2.0_5mCG_5hmCG_54x_UCSC_20231031.bam get_bam_stat_output/HG008-T_GRCh38_GIABv3_ONT-UL-R10.4.1-dorado0.4.3_sup4.2.0_5mCG_5hmCG_54x_UCSC_20231031.bam.stats.tsv.gz\n",
    "\n",
    "# UCSC ONT Std\n",
    "python scripts/get_bam_stat.py data/HG008-T_GRCh38_GIABv3_ONT-R10.4.1-doradov0.3.4-5mCG-5hmC-63x_UCSC_20230905.bam get_bam_stat_output/HG008-T_GRCh38_GIABv3_ONT-R10.4.1-doradov0.3.4-5mCG-5hmC-63x_UCSC_20230905.bam.stats.tsv.gz\n",
    "\n",
    "# NE ONT Std\n",
    "python scripts/get_bam_stat.py data/HG008-N-P_GRCh38-GIABv3_ONT-R1041-dorado_0.5.3_5mC_5hmC_41x.bam get_bam_stat_output/HG008-N-P_GRCh38-GIABv3_ONT-R1041-dorado_0.5.3_5mC_5hmC_41x.bam.stats.tsv.gz\n",
    "python scripts/get_bam_stat.py data/HG008-N-D_GRCh38-GIABv3_ONT-R1041-dorado_0.5.3_5mC_5hmC_94x.bam get_bam_stat_output/HG008-N-D_GRCh38-GIABv3_ONT-R1041-dorado_0.5.3_5mC_5hmC_94x.bam.stats.tsv.gz\n",
    "\n",
    "```"
   ]
  },
  {
   "cell_type": "markdown",
   "id": "9bc3be0f",
   "metadata": {},
   "source": [
    "Following processing, all bams removed from local `/Users/jmcdani/Documents/HG008-data-science-paper/hg008-scientific-data-paper-figs/data` to free space."
   ]
  },
  {
   "cell_type": "markdown",
   "id": "dfb27c45",
   "metadata": {},
   "source": [
    "# Run samtools stats on long read mapped bams\n",
    "Using mapped bams run samtools stats\n",
    "```\n",
    "samtools 1.9\n",
    "Using htslib 1.9\n",
    "Copyright (C) 2018 Genome Research Ltd.\n",
    "```"
   ]
  },
  {
   "cell_type": "markdown",
   "id": "654df08d",
   "metadata": {},
   "source": [
    "```\n",
    "# script: samtools_stats.sh\n",
    "\n",
    "# PacBio Revio\n",
    "samtools stats data/HG008-N-P_PacBio-HiFi-Revio_20240125_35x_GRCh38-GIABv3.bam > data/samtools-PB-Revio/HG008-N-P_PacBio-HiFi-Revio_20240125_35x_GRCh38-GIABv3_samtools_stats.txt\n",
    "samtools stats data/HG008-T_PacBio-HiFi-Revio_20240125_116x_GRCh38-GIABv3.bam > data/samtools-PB-Revio/HG008-T_PacBio-HiFi-Revio_20240125_116x_GRCh38-GIABv3_samtools_stats.txt\n",
    "\n",
    "# BCM Revio\n",
    "samtools stats data/HG008-N-D_PacBio-HiFi-Revio_20240313_68x_GRCh38-GIABv3.bam > data/samtools-BCM-Revio/HG008-N-D_PacBio-HiFi-Revio_20240313_68x_GRCh38-GIABv3_samtools_stats.txt\n",
    "samtools stats data/HG008-T_PacBio-HiFi-Revio_20240313_106x_GRCh38-GIABv3.bam > data/samtools-BCM-Revio/HG008-T_PacBio-HiFi-Revio_20240313_106x_GRCh38-GIABv3_samtools_stats.txt\n",
    "\n",
    "# UCSC ONT UL\n",
    "samtools stats data/HG008-T_GRCh38_GIABv3_ONT-UL-R10.4.1-dorado0.4.3_sup4.2.0_5mCG_5hmCG_54x_UCSC_20231031.bam > data/samtools-UCSC-ONT-ULandStd/ul/HG008-T_GRCh38_GIABv3_ONT-UL-R10.4.1-dorado0.4.3_sup4.2.0_5mCG_5hmCG_54x_UCSC_20231031_samtools_stats.txt\n",
    "\n",
    "# UCSC ONT Std\n",
    "samtools stats data/HG008-T_GRCh38_GIABv3_ONT-R10.4.1-doradov0.3.4-5mCG-5hmC-63x_UCSC_20230905.bam > data/samtools-UCSC-ONT-ULandStd/std/HG008-T_GRCh38_GIABv3_ONT-R10.4.1-doradov0.3.4-5mCG-5hmC-63x_UCSC_20230905_samtools_stats.txt\n",
    "\n",
    "# NE ONT Std\n",
    "samtools stats data/HG008-N-P_GRCh38-GIABv3_ONT-R1041-dorado_0.5.3_5mC_5hmC_41x.bam > data/samtools-NE-ONT-std/HG008-N-P_GRCh38-GIABv3_ONT-R1041-dorado_0.5.3_5mC_5hmC_41x_samtools_stats.txt\n",
    "samtools stats data/HG008-N-D_GRCh38-GIABv3_ONT-R1041-dorado_0.5.3_5mC_5hmC_94x.bam > data/samtools-NE-ONT-std/HG008-N-D_GRCh38-GIABv3_ONT-R1041-dorado_0.5.3_5mC_5hmC_94x_samtools_stats.txt\n",
    "```"
   ]
  },
  {
   "cell_type": "markdown",
   "id": "fbc117c8",
   "metadata": {},
   "source": [
    "# Get Samtools stats `extract_samtools_stats.sh`  "
   ]
  },
  {
   "cell_type": "markdown",
   "id": "77df20ff",
   "metadata": {},
   "source": [
    "Using long read `samtools_stats.txt`, extract stats using Noah Spies [extract_samtools_stats.sh](https://github.com/nate-d-olson/giab-han-chinese-sequel/blob/master/scripts/extract_samtools_stats.sh). \n",
    "\n",
    "`extract_samtools_stats.sh` --> INPUT: samtools stats .txt file, OUTPUT: `cov.txt`, `read_lengths.txt`, `stats_summary.txt`"
   ]
  },
  {
   "cell_type": "code",
   "execution_count": 2,
   "id": "79dab2a7",
   "metadata": {},
   "outputs": [],
   "source": [
    "# UCSC ONT UL, datset id = ONT-uL-1\n",
    "sh scripts/extract_samtools_stats.sh data/samtools-UCSC-ONT-ULandStd/ul/HG008-T_GRCh38_GIABv3_ONT-UL-R10.4.1-dorado0.4.3_sup4.2.0_5mCG_5hmCG_54x_UCSC_20231031_samtools_stats.txt"
   ]
  },
  {
   "cell_type": "code",
   "execution_count": 3,
   "id": "c1cbcb36",
   "metadata": {},
   "outputs": [],
   "source": [
    "# UCSC ONT Std, datset id = ONT-std-2\n",
    "sh scripts/extract_samtools_stats.sh data/samtools-UCSC-ONT-ULandStd/std/HG008-T_GRCh38_GIABv3_ONT-R10.4.1-doradov0.3.4-5mCG-5hmC-63x_UCSC_20230905_samtools_stats.txt"
   ]
  },
  {
   "cell_type": "code",
   "execution_count": 4,
   "id": "56fbbf6c",
   "metadata": {},
   "outputs": [],
   "source": [
    "# PacBio Revio, \n",
    "sh scripts/extract_samtools_stats.sh data/samtools-PB-Revio/HG008-N-P_PacBio-HiFi-Revio_20240125_35x_GRCh38-GIABv3_samtools_stats.txt\n",
    "sh scripts/extract_samtools_stats.sh data/samtools-PB-Revio/HG008-T_PacBio-HiFi-Revio_20240125_116x_GRCh38-GIABv3_samtools_stats.txt"
   ]
  },
  {
   "cell_type": "code",
   "execution_count": 5,
   "id": "933998dd",
   "metadata": {},
   "outputs": [],
   "source": [
    "# NE ONT std, \n",
    "sh scripts/extract_samtools_stats.sh data/samtools-NE-ONT-std/HG008-N-P_GRCh38-GIABv3_ONT-R1041-dorado_0.5.3_5mC_5hmC_41x_samtools_stats.txt\n",
    "sh scripts/extract_samtools_stats.sh data/samtools-NE-ONT-std/HG008-N-D_GRCh38-GIABv3_ONT-R1041-dorado_0.5.3_5mC_5hmC_94_samtools_stats.txt"
   ]
  },
  {
   "cell_type": "code",
   "execution_count": 6,
   "id": "b207a8dc",
   "metadata": {},
   "outputs": [],
   "source": [
    "# BCM Revio , \n",
    "sh scripts/extract_samtools_stats.sh data/samtools-BCM-Revio/HG008-N-D_PacBio-HiFi-Revio_20240313_68x_GRCh38-GIABv3_samtools_stats.txt\n",
    "sh scripts/extract_samtools_stats.sh data/samtools-BCM-Revio/HG008-T_PacBio-HiFi-Revio_20240313_106x_GRCh38-GIABv3_samtools_stats.txt"
   ]
  }
 ],
 "metadata": {
  "kernelspec": {
   "display_name": "Bash",
   "language": "bash",
   "name": "bash"
  },
  "language_info": {
   "codemirror_mode": "shell",
   "file_extension": ".sh",
   "mimetype": "text/x-sh",
   "name": "bash"
  },
  "toc": {
   "base_numbering": 1,
   "nav_menu": {},
   "number_sections": true,
   "sideBar": true,
   "skip_h1_title": false,
   "title_cell": "Table of Contents",
   "title_sidebar": "Contents",
   "toc_cell": false,
   "toc_position": {},
   "toc_section_display": true,
   "toc_window_display": false
  }
 },
 "nbformat": 4,
 "nbformat_minor": 5
}
